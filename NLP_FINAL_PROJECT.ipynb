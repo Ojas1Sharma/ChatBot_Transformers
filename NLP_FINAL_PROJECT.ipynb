{
  "cells": [
    {
      "cell_type": "markdown",
      "metadata": {
        "id": "B3Tvo6nMz6zt"
      },
      "source": [
        "<a name=\"1\"></a>\n",
        "# Part 1:   Exploring the MultiWoz dataset\n",
        "\n",
        "You will start by exploring the MultiWoz dataset. The dataset you are about to use has more than 10,000 human annotated dialogues and spans multiple domains and topics. Some dialogues include multiple domains and others include single domains. In this section, you will load and explore this dataset, as well as develop a function to extract the dialogues."
      ]
    },
    {
      "cell_type": "markdown",
      "metadata": {
        "id": "cRUOkwe8z6zu"
      },
      "source": [
        "Let's first import the modules we will be using:"
      ]
    },
    {
      "cell_type": "code",
      "execution_count": null,
      "metadata": {
        "colab": {
          "base_uri": "https://localhost:8080/"
        },
        "id": "aV4zpTnSVFIp",
        "outputId": "6c1b6fd9-2f4e-4004-8772-add063522560"
      },
      "outputs": [
        {
          "output_type": "stream",
          "name": "stdout",
          "text": [
            "\u001b[2K     \u001b[90m━━━━━━━━━━━━━━━━━━━━━━━━━━━━━━━━━━━━━━\u001b[0m \u001b[32m637.9/637.9 kB\u001b[0m \u001b[31m15.0 MB/s\u001b[0m eta \u001b[36m0:00:00\u001b[0m\n",
            "\u001b[2K     \u001b[90m━━━━━━━━━━━━━━━━━━━━━━━━━━━━━━━━━━━━━━━━\u001b[0m \u001b[32m6.0/6.0 MB\u001b[0m \u001b[31m95.3 MB/s\u001b[0m eta \u001b[36m0:00:00\u001b[0m\n",
            "\u001b[?25htrax                          1.4.1\n"
          ]
        }
      ],
      "source": [
        "import json\n",
        "import random\n",
        "import numpy as np\n",
        "\n",
        "!pip -q install trax\n",
        "import trax   \n",
        "from trax import layers as tl\n",
        "from trax.supervised import training\n",
        "!pip list | grep trax"
      ]
    },
    {
      "cell_type": "code",
      "source": [
        "from google.colab import drive\n",
        "drive.mount('/content/gdrive')"
      ],
      "metadata": {
        "colab": {
          "base_uri": "https://localhost:8080/"
        },
        "id": "uqFKh5pb0Lcn",
        "outputId": "6d0fdd3f-8cb7-4a8b-b385-8c9203392fc0"
      },
      "execution_count": null,
      "outputs": [
        {
          "output_type": "stream",
          "name": "stderr",
          "text": [
            "/usr/local/lib/python3.9/dist-packages/ipykernel/ipkernel.py:283: DeprecationWarning: `should_run_async` will not call `transform_cell` automatically in the future. Please pass the result to `transformed_cell` argument and any exception that happen during thetransform in `preprocessing_exc_tuple` in IPython 7.17 and above.\n",
            "  and should_run_async(code)\n"
          ]
        },
        {
          "output_type": "stream",
          "name": "stdout",
          "text": [
            "Mounted at /content/gdrive\n"
          ]
        }
      ]
    },
    {
      "cell_type": "markdown",
      "metadata": {
        "id": "RPPJuVQCz6zx"
      },
      "source": [
        "Let's also declare some constants we will be using in the exercises."
      ]
    },
    {
      "cell_type": "code",
      "execution_count": null,
      "metadata": {
        "id": "ZCbyTXLsz6zx"
      },
      "outputs": [],
      "source": [
        "# filename of the MultiWOZ dialogue dataset\n",
        "# DATA_FILE = '/content/gdrive/MyDrive/week4/data/data.json'\n",
        "DATA_FILE = 'data.json'\n",
        "\n",
        "# data directory\n",
        "DATA_DIR = '/content/gdrive/MyDrive/week4/data'\n",
        "# DATA_DIR = './data'\n",
        "\n",
        "# dictionary where we will load the dialogue dataset\n",
        "DIALOGUE_DB = {}\n",
        "\n",
        "# vocabulary filename\n",
        "VOCAB_FILE = 'en_32k.subword'\n",
        "\n",
        "# vocabulary file directory\n",
        "VOCAB_DIR = '/content/gdrive/MyDrive/week4/data/vocabs'\n",
        "# VOCAB_DIR = 'data/vocabs'"
      ]
    },
    {
      "cell_type": "markdown",
      "metadata": {
        "id": "fBuz5-oxz6zx"
      },
      "source": [
        "Let's now load the MultiWOZ 2.1 dataset. We have already provided it for you in your workspace. It is in JSON format so we should load it as such:"
      ]
    },
    {
      "cell_type": "code",
      "execution_count": null,
      "metadata": {
        "id": "K58I5vFB7GlP"
      },
      "outputs": [],
      "source": [
        "# help function to load a JSON file\n",
        "def load_json(directory, file):\n",
        "    with open(f'{directory}/{file}') as file: \n",
        "        db = json.load(file)\n",
        "    return db\n",
        "\n",
        "# load the dialogue data set into our dictionary\n",
        "DIALOGUE_DB = load_json(DATA_DIR, DATA_FILE)"
      ]
    },
    {
      "cell_type": "markdown",
      "metadata": {
        "id": "jY8oH-Mnz6zy"
      },
      "source": [
        "Let's see how many dialogues we have in the dictionary. 1 key-value pair is one dialogue so we can just get the dictionary's length."
      ]
    },
    {
      "cell_type": "code",
      "execution_count": null,
      "metadata": {
        "colab": {
          "base_uri": "https://localhost:8080/"
        },
        "id": "VGBnUfEk8p9x",
        "outputId": "b5be275f-b617-4787-d7b4-5a03cc3ada6b"
      },
      "outputs": [
        {
          "output_type": "stream",
          "name": "stdout",
          "text": [
            "The number of dialogues is: 10438\n"
          ]
        }
      ],
      "source": [
        "print(f'The number of dialogues is: {len(DIALOGUE_DB)}')"
      ]
    },
    {
      "cell_type": "markdown",
      "metadata": {
        "id": "bE30O_Ywz6zy"
      },
      "source": [
        "The dialogues are composed of multiple files and the filenames are used as keys in our dictionary. Those with multi-domain dialogues have \"MUL\" in their filenames while single domain dialogues have either \"SNG\" or \"WOZ\"."
      ]
    },
    {
      "cell_type": "code",
      "execution_count": null,
      "metadata": {
        "colab": {
          "base_uri": "https://localhost:8080/"
        },
        "id": "fRG5N_hDz6zy",
        "outputId": "edb1fafb-ed6b-4137-f438-8e74695586ec"
      },
      "outputs": [
        {
          "output_type": "stream",
          "name": "stdout",
          "text": [
            "['SNG01856.json', 'SNG0129.json', 'PMUL1635.json', 'MUL2168.json', 'SNG0073.json', 'SNG01445.json', 'MUL2105.json']\n"
          ]
        }
      ],
      "source": [
        "# print 7 keys from the dataset to see the filenames\n",
        "print(list(DIALOGUE_DB.keys())[0:7]) "
      ]
    },
    {
      "cell_type": "markdown",
      "metadata": {
        "id": "pE6wiMUS8p91"
      },
      "source": [
        "As you can see from the cells above, there are 10,438 conversations, each in its own file.  You will train your model on all those conversations. Each file is also loaded into a dictionary and each has two keys which are the following:"
      ]
    },
    {
      "cell_type": "code",
      "execution_count": null,
      "metadata": {
        "colab": {
          "base_uri": "https://localhost:8080/"
        },
        "id": "5KYeQLnG8p96",
        "outputId": "b97e8154-d5b8-4e3b-dea3-eab04c48dab7"
      },
      "outputs": [
        {
          "output_type": "stream",
          "name": "stdout",
          "text": [
            "dict_keys(['goal', 'log'])\n"
          ]
        }
      ],
      "source": [
        "# get keys of the fifth file in the list above\n",
        "print(DIALOGUE_DB['SNG0073.json'].keys())"
      ]
    },
    {
      "cell_type": "markdown",
      "metadata": {
        "id": "F-gj5aqF8p9_"
      },
      "source": [
        "The `goal` also points to a dictionary and it contains several keys pertaining to the objectives of the conversation. For example below, we can see that the conversation will be about booking a taxi."
      ]
    },
    {
      "cell_type": "code",
      "execution_count": null,
      "metadata": {
        "colab": {
          "base_uri": "https://localhost:8080/"
        },
        "id": "PPPWwQ2s8p9_",
        "outputId": "bcd1fab0-43fb-49ec-91b6-503bb071da14"
      },
      "outputs": [
        {
          "output_type": "execute_result",
          "data": {
            "text/plain": [
              "{'taxi': {'info': {'leaveAt': '17:15',\n",
              "   'destination': 'pizza hut fen ditton',\n",
              "   'departure': \"saint john's college\"},\n",
              "  'reqt': ['car type', 'phone'],\n",
              "  'fail_info': {}},\n",
              " 'police': {},\n",
              " 'hospital': {},\n",
              " 'hotel': {},\n",
              " 'attraction': {},\n",
              " 'train': {},\n",
              " 'message': [\"You want to book a <span class='emphasis'>taxi</span>. The taxi should go to <span class='emphasis'>pizza hut fen ditton</span> and should depart from <span class='emphasis'>saint john's college</span>\",\n",
              "  \"The taxi should <span class='emphasis'>leave after 17:15</span>\",\n",
              "  \"Make sure you get <span class='emphasis'>car type</span> and <span class='emphasis'>contact number</span>\"],\n",
              " 'restaurant': {}}"
            ]
          },
          "metadata": {},
          "execution_count": 8
        }
      ],
      "source": [
        "DIALOGUE_DB['SNG0073.json']['goal']"
      ]
    },
    {
      "cell_type": "markdown",
      "metadata": {
        "id": "B4N8RtWu8p-C"
      },
      "source": [
        "The `log` on the other hand contains the dialog. It is a list of dictionaries and each element of this list contains several descriptions as well. Let's look at an example:"
      ]
    },
    {
      "cell_type": "code",
      "execution_count": null,
      "metadata": {
        "colab": {
          "base_uri": "https://localhost:8080/"
        },
        "id": "gHzrp1_hz6z0",
        "outputId": "b9e98605-0102-4589-c2e7-7da5a6b7b412"
      },
      "outputs": [
        {
          "output_type": "execute_result",
          "data": {
            "text/plain": [
              "{'text': \"I would like a taxi from Saint John's college to Pizza Hut Fen Ditton.\",\n",
              " 'metadata': {},\n",
              " 'dialog_act': {'Taxi-Inform': [['Dest', 'pizza hut fen ditton'],\n",
              "   ['Depart', \"saint john 's college\"]]},\n",
              " 'span_info': [['Taxi-Inform', 'Dest', 'pizza hut fen ditton', 11, 14],\n",
              "  ['Taxi-Inform', 'Depart', \"saint john 's college\", 6, 9]]}"
            ]
          },
          "metadata": {},
          "execution_count": 9
        }
      ],
      "source": [
        "# get first element of the log list\n",
        "DIALOGUE_DB['SNG0073.json']['log'][0]"
      ]
    },
    {
      "cell_type": "markdown",
      "metadata": {
        "id": "c6kTbbSfz6z0"
      },
      "source": [
        "For this assignment, we are only interested in the conversation which is in the `text` field.\n",
        "The conversation goes back and forth between two persons. Let's call them 'Person 1' and 'Person 2'. This implies that\n",
        "data['SNG0073.json']['log'][0]['text'] is 'Person 1' and\n",
        "data['SNG0073.json']['log'][1]['text'] is 'Person 2' and so on. The even offsets are 'Person 1' and the odd offsets are 'Person 2'."
      ]
    },
    {
      "cell_type": "code",
      "execution_count": null,
      "metadata": {
        "colab": {
          "base_uri": "https://localhost:8080/"
        },
        "id": "sYniX-n-z6z0",
        "outputId": "387917e3-61b6-4648-d0e7-706ac871ea76"
      },
      "outputs": [
        {
          "output_type": "stream",
          "name": "stdout",
          "text": [
            " Person 1:  I would like a taxi from Saint John's college to Pizza Hut Fen Ditton.\n",
            " Person 2:  What time do you want to leave and what time do you want to arrive by?\n"
          ]
        }
      ],
      "source": [
        "print(' Person 1: ', DIALOGUE_DB['SNG0073.json']['log'][0]['text'])\n",
        "print(' Person 2: ',DIALOGUE_DB['SNG0073.json']['log'][1]['text'])"
      ]
    },
    {
      "cell_type": "markdown",
      "metadata": {
        "id": "pRLX-s5Lz6z0"
      },
      "source": [
        "<a name=\"ex01\"></a>\n",
        "### Exercise 01\n",
        "\n",
        "You will now implement the `get_conversation()` function that will extract the conversations from the dataset's file.\n",
        "\n",
        "**Instructions:** Implement a function to extract conversations from the input file.   \n",
        "As described above, the conversation is in the `text` field in each of the elements in the `log` list of the file. If the log list has `x` number of elements, then the function will get the `text` entries of each of those elements. Your function should return the conversation, prepending each field with either ' Person 1: ' if 'x' is even or ' Person 2: ' if 'x' is odd. You can use the Python modulus operator '%' to help select the even/odd entries. Important note: Do not print a newline character (i.e. `\\n`) when generating the string. For example, in the code cell above, your function should output something like:\n",
        "\n",
        "```\n",
        " Person 1: I would like a taxi from Saint John's college to Pizza Hut Fen Ditton. Person 2: What time do you want to leave and what time do you want to arrive by?\n",
        "```\n",
        "\n",
        "and **not**:\n",
        "\n",
        "```\n",
        " Person 1:  I would like a taxi from Saint John's college to Pizza Hut Fen Ditton.\n",
        " Person 2:  What time do you want to leave and what time do you want to arrive by?\n",
        "```"
      ]
    },
    {
      "cell_type": "code",
      "execution_count": null,
      "metadata": {
        "id": "9cmqukHvz6z1"
      },
      "outputs": [],
      "source": [
        "\n",
        "def get_conversation(file, data_db):\n",
        "   \n",
        "    \n",
        "    # initialize empty string\n",
        "    result = ''\n",
        "    \n",
        "    # get length of file's log list\n",
        "    len_msg_log = len(data_db[file]['log'])\n",
        "    \n",
        "    # set the delimiter strings\n",
        "    delimiter_1 = ' Person 1: '\n",
        "    delimiter_2 = ' Person 2: '\n",
        "    \n",
        "    # loop over the file's log list\n",
        "    for i in range(len_msg_log):\n",
        "        \n",
        "    ### START CODE HERE (REPLACE INSTANCES OF 'None' WITH YOUR CODE) ###\n",
        "    \n",
        "        # get i'th element of file log list\n",
        "        cur_log = data_db[file]['log'][i]\n",
        "        \n",
        "        # check if i is even\n",
        "        if i%2 == 0:                   \n",
        "            # append the 1st delimiter string\n",
        "            result += delimiter_1\n",
        "        else: \n",
        "            # append the 2nd delimiter string\n",
        "            result += delimiter_2\n",
        "        \n",
        "        # append the message text from the log\n",
        "        result += cur_log['text']\n",
        "    \n",
        "    ### END CODE HERE ###\n",
        "\n",
        "    return result"
      ]
    },
    {
      "cell_type": "code",
      "source": [
        "import sys\n",
        "sys.path.insert(0,'/content/')"
      ],
      "metadata": {
        "id": "jga9S07r8TSL"
      },
      "execution_count": null,
      "outputs": []
    },
    {
      "cell_type": "code",
      "execution_count": null,
      "metadata": {
        "colab": {
          "base_uri": "https://localhost:8080/"
        },
        "id": "8NDHs7Hdz6z1",
        "outputId": "8dfc6a19-e178-4326-963a-a9aed214721b"
      },
      "outputs": [
        {
          "output_type": "stream",
          "name": "stdout",
          "text": [
            "\u001b[92m All tests passed\n"
          ]
        }
      ],
      "source": [
        "# BEGIN UNIT TEST\n",
        "import w4_unittest\n",
        "w4_unittest.test_get_conversation(get_conversation)\n",
        "# END UNIT TEST"
      ]
    },
    {
      "cell_type": "code",
      "execution_count": null,
      "metadata": {
        "colab": {
          "base_uri": "https://localhost:8080/"
        },
        "id": "Ugvx0noP8p-G",
        "outputId": "ce5ae447-eccc-4333-ac17-a432b0ac9f75"
      },
      "outputs": [
        {
          "output_type": "stream",
          "name": "stdout",
          "text": [
            " Person 1: am looking for a place to to stay that has cheap price range it should be in a type of hotel Person 2: Okay, do you have a specific area you want to stay in? Person 1: no, i just need to make sure it's cheap. oh, and i need parking Person 2: I found 1 cheap hotel for you that includes parking. Do you like me to book it? Person 1: Yes, please. 6 people 3 nights starting on tuesday. Person 2: I am sorry but I wasn't able to book that for you for Tuesday. Is there another day you would like to stay or perhaps a shorter stay? Person 1: how about only 2 nights. Person 2: Booking was successful.\n",
            "Reference number is : 7GAWK763. Anything else I can do for you? Person 1: No, that will be all. Good bye. Person 2: Thank you for using our services.\n"
          ]
        }
      ],
      "source": [
        "file = 'SNG01856.json'\n",
        "conversation = get_conversation(file, DIALOGUE_DB)\n",
        "\n",
        "# print raw output\n",
        "print(conversation)"
      ]
    },
    {
      "cell_type": "markdown",
      "metadata": {
        "id": "zgXFweZpz6z2"
      },
      "source": [
        "**Expected Result:**\n",
        "```\n",
        "Person 1: am looking for a place to to stay that has cheap price range it should be in a type of hotel Person 2: Okay, do you have a specific area you want to stay in? Person 1: no, i just need to make sure it's cheap. oh, and i need parking Person 2: I found 1 cheap hotel for you that includes parking. Do you like me to book it? Person 1: Yes, please. 6 people 3 nights starting on tuesday. Person 2: I am sorry but I wasn't able to book that for you for Tuesday. Is there another day you would like to stay or perhaps a shorter stay? Person 1: how about only 2 nights. Person 2: Booking was successful.\n",
        "Reference number is : 7GAWK763. Anything else I can do for you? Person 1: No, that will be all. Good bye. Person 2: Thank you for using our services.\n",
        "```"
      ]
    },
    {
      "cell_type": "markdown",
      "metadata": {
        "id": "VQ7UpaHnz6z2"
      },
      "source": [
        "We can have a utility pretty print function just so we can visually follow the conversation more easily."
      ]
    },
    {
      "cell_type": "code",
      "execution_count": null,
      "metadata": {
        "colab": {
          "base_uri": "https://localhost:8080/"
        },
        "id": "wuEWjXMYz6z2",
        "outputId": "b9d36900-2bba-456e-87b1-3cc72b61f2bc"
      },
      "outputs": [
        {
          "output_type": "stream",
          "name": "stdout",
          "text": [
            "Person 1: am looking for a place to to stay that has cheap price range it should be in a type of hotel \n",
            "Person 2: Okay, do you have a specific area you want to stay in? \n",
            "Person 1: no, i just need to make sure it's cheap. oh, and i need parking \n",
            "Person 2: I found 1 cheap hotel for you that includes parking. Do you like me to book it? \n",
            "Person 1: Yes, please. 6 people 3 nights starting on tuesday. \n",
            "Person 2: I am sorry but I wasn't able to book that for you for Tuesday. Is there another day you would like to stay or perhaps a shorter stay? \n",
            "Person 1: how about only 2 nights. \n",
            "Person 2: Booking was successful.\n",
            "Reference number is : 7GAWK763. Anything else I can do for you? \n",
            "Person 1: No, that will be all. Good bye. \n",
            "Person 2: Thank you for using our services.\n"
          ]
        }
      ],
      "source": [
        "def print_conversation(conversation):\n",
        "    delimiter_1 = 'Person 1: '\n",
        "    delimiter_2 = 'Person 2: '\n",
        "    \n",
        "    split_list_d1 = conversation.split(delimiter_1)\n",
        "    for sublist in split_list_d1[1:]:\n",
        "        split_list_d2 = sublist.split(delimiter_2)\n",
        "        print(colored(f'Person 1: {split_list_d2[0]}', \"red\"))\n",
        "        \n",
        "        if len(split_list_d2) > 1:\n",
        "            print(colored(f'Person 2: {split_list_d2[1]}', \"green\"))\n",
        "            \n",
        "print_conversation(conversation)"
      ]
    },
    {
      "cell_type": "markdown",
      "metadata": {
        "id": "qzg21Kgc8p-K"
      },
      "source": [
        "For this assignment, we will just use the outputs of the calls to `get_conversation` to train the model. But just to expound, there are also other information in the MultiWoz dataset that can be useful in other contexts. Each element of the log list has more information about it. For example, above, if you were to look at the other fields for the following, \"am looking for a place to stay that has cheap price range it should be in a type of hotel\", you will get the following. "
      ]
    },
    {
      "cell_type": "code",
      "execution_count": null,
      "metadata": {
        "colab": {
          "base_uri": "https://localhost:8080/"
        },
        "id": "Rs2R8q1d8p-K",
        "outputId": "cbb726a2-9073-4fe2-9fa5-342c899a3bce"
      },
      "outputs": [
        {
          "output_type": "execute_result",
          "data": {
            "text/plain": [
              "{'text': 'am looking for a place to to stay that has cheap price range it should be in a type of hotel',\n",
              " 'metadata': {},\n",
              " 'dialog_act': {'Hotel-Inform': [['Type', 'hotel'], ['Price', 'cheap']]},\n",
              " 'span_info': [['Hotel-Inform', 'Type', 'hotel', 20, 20],\n",
              "  ['Hotel-Inform', 'Price', 'cheap', 10, 10]]}"
            ]
          },
          "metadata": {},
          "execution_count": 16
        }
      ],
      "source": [
        "DIALOGUE_DB['SNG01856.json']['log'][0]"
      ]
    },
    {
      "cell_type": "markdown",
      "metadata": {
        "id": "nf0AAmxy8p-N"
      },
      "source": [
        "The dataset also comes with hotel, hospital, taxi, train, police, and restaurant databases. For example, in case you need to call a doctor, or a hotel, or a taxi, this will allow you to automate the entire conversation. Take a look at the files accompanying the data set."
      ]
    },
    {
      "cell_type": "code",
      "execution_count": null,
      "metadata": {
        "colab": {
          "base_uri": "https://localhost:8080/"
        },
        "id": "HQmYUcsi8p-O",
        "outputId": "957483a0-e053-4794-abf9-c8bd9c928ede"
      },
      "outputs": [
        {
          "output_type": "stream",
          "name": "stdout",
          "text": [
            "{'address': 'pool way, whitehill road, off newmarket road', 'area': 'east', 'entrance fee': '?', 'id': '1', 'location': [52.208789, 0.154883], 'name': 'abbey pool and astroturf pitch', 'openhours': '?', 'phone': '01223902088', 'postcode': 'cb58nt', 'pricerange': '?', 'type': 'swimmingpool'}\n"
          ]
        }
      ],
      "source": [
        "# this is an example of the attractions file\n",
        "# attraction_file = open('data/attraction_db.json')\n",
        "attraction_file = open('/content/gdrive/MyDrive/week4/data/attraction_db.json')\n",
        "attractions = json.load(attraction_file)\n",
        "print(attractions[0])"
      ]
    },
    {
      "cell_type": "code",
      "execution_count": null,
      "metadata": {
        "colab": {
          "base_uri": "https://localhost:8080/"
        },
        "id": "I5kTg4uX8p-R",
        "outputId": "6227ed5c-7da3-47ea-d324-96e37cbec3ae"
      },
      "outputs": [
        {
          "output_type": "stream",
          "name": "stdout",
          "text": [
            "{'department': 'neurosciences critical care unit', 'id': 0, 'phone': '01223216297'}\n"
          ]
        }
      ],
      "source": [
        "# this is an example of the hospital file\n",
        "# hospital_file = open('data/hospital_db.json')\n",
        "hospital_file = open('/content/gdrive/MyDrive/week4/data/hospital_db.json')\n",
        "hospitals = json.load(hospital_file)\n",
        "print(hospitals[0]) # feel free to index into other indices"
      ]
    },
    {
      "cell_type": "code",
      "execution_count": null,
      "metadata": {
        "colab": {
          "base_uri": "https://localhost:8080/"
        },
        "id": "B5knaAEc8p-U",
        "outputId": "d0c76397-df01-4190-ee7f-e742f7b2d190"
      },
      "outputs": [
        {
          "output_type": "stream",
          "name": "stdout",
          "text": [
            "{'address': '124 tenison road', 'area': 'east', 'internet': 'yes', 'parking': 'no', 'id': '0', 'location': [52.1963733, 0.1987426], 'name': 'a and b guest house', 'phone': '01223315702', 'postcode': 'cb12dp', 'price': {'double': '70', 'family': '90', 'single': '50'}, 'pricerange': 'moderate', 'stars': '4', 'takesbookings': 'yes', 'type': 'guesthouse'}\n"
          ]
        }
      ],
      "source": [
        "# this is an example of the hotel file\n",
        "# hotel_file = open('data/hotel_db.json')\n",
        "hotel_file = open('/content/gdrive/MyDrive/week4/data/hotel_db.json')\n",
        "hotels = json.load(hotel_file)\n",
        "print(hotels[0]) # feel free to index into other indices"
      ]
    },
    {
      "cell_type": "code",
      "execution_count": null,
      "metadata": {
        "colab": {
          "base_uri": "https://localhost:8080/"
        },
        "id": "t-Rk01Mv8p-a",
        "outputId": "bc077010-6208-4036-a95d-ec16bf0366a8"
      },
      "outputs": [
        {
          "output_type": "stream",
          "name": "stdout",
          "text": [
            "{'address': '124 tenison road', 'area': 'east', 'internet': 'yes', 'parking': 'no', 'id': '0', 'location': [52.1963733, 0.1987426], 'name': 'a and b guest house', 'phone': '01223315702', 'postcode': 'cb12dp', 'price': {'double': '70', 'family': '90', 'single': '50'}, 'pricerange': 'moderate', 'stars': '4', 'takesbookings': 'yes', 'type': 'guesthouse'}\n"
          ]
        }
      ],
      "source": [
        "# this is an example of the police file\n",
        "# police_file = open('data/police_db.json')\n",
        "\n",
        "police_file = open('/content/gdrive/MyDrive/week4/data/hotel_db.json')\n",
        "police = json.load(police_file)\n",
        "print(police[0]) # feel free to index into other indices"
      ]
    },
    {
      "cell_type": "code",
      "execution_count": null,
      "metadata": {
        "colab": {
          "base_uri": "https://localhost:8080/"
        },
        "id": "u-G9pD8g8p-d",
        "outputId": "6bb614da-3230-4560-d545-c11cae2b58fc"
      },
      "outputs": [
        {
          "output_type": "stream",
          "name": "stdout",
          "text": [
            "{'address': 'Regent Street City Centre', 'area': 'centre', 'food': 'italian', 'id': '19210', 'introduction': 'Pizza hut is a large chain with restaurants nationwide offering convenience pizzas pasta and salads to eat in or take away', 'location': [52.20103, 0.126023], 'name': 'pizza hut city centre', 'phone': '01223323737', 'postcode': 'cb21ab', 'pricerange': 'cheap', 'type': 'restaurant'}\n"
          ]
        }
      ],
      "source": [
        "# this is an example of a restuarant file\n",
        "# restaurant_file = open('data/restaurant_db.json')\n",
        "restaurant_file = open('/content/gdrive/MyDrive/week4/data/restaurant_db.json')\n",
        "restaurants = json.load(restaurant_file)\n",
        "print(restaurants[0]) # feel free to index into other indices"
      ]
    },
    {
      "cell_type": "markdown",
      "metadata": {
        "id": "k9eAKw4R8p-g"
      },
      "source": [
        "For more information about the multiwoz 2.1 data set, please run the cell below to read the `ReadMe.txt` file. Feel free to open any other file to explore it. "
      ]
    },
    {
      "cell_type": "code",
      "execution_count": null,
      "metadata": {
        "colab": {
          "base_uri": "https://localhost:8080/"
        },
        "id": "2H8pB_yI8p-g",
        "outputId": "5d37f52f-eab4-43e0-c09d-7691eca7f57f"
      },
      "outputs": [
        {
          "output_type": "stream",
          "name": "stdout",
          "text": [
            "#####################################################\n",
            "#####################################################\n",
            "#  Copyright Cambridge Dialogue Systems Group, 2018 #\n",
            "#####################################################\n",
            "#####################################################\n",
            "\n",
            "Dataset contains the following files:\n",
            "1. data.json: the woz dialogue dataset, which contains the conversation  users and wizards, as well as a set of coarse labels for each user turn. This file contains both system and user dialogue acts annotated at the turn level. Files with multi-domain dialogues have \"MUL\" in their names. Single domain dialogues have either \"SNG\" or \"WOZ\" in their names.\n",
            "2. restaurant_db.json: the Cambridge restaurant database file, containing restaurants in the Cambridge UK area and a set of attributes.\n",
            "3. attraction_db.json: the Cambridge attraction database file, contining attractions in the Cambridge UK area and a set of attributes.\n",
            "4. hotel_db.json: the Cambridge hotel database file, containing hotels in the Cambridge UK area and a set of attributes.\n",
            "5. train_db.json: the Cambridge train (with artificial connections) database file, containing trains in the Cambridge UK area and a set of attributes.\n",
            "6. hospital_db.json: the Cambridge hospital database file, contatining information about departments.\n",
            "7. police_db.json: the Cambridge police station information.\n",
            "8. taxi_db.json: slot-value list for taxi domain.\n",
            "9. valListFile.txt: list of dialogues for validation.\n",
            "10. testListFile.txt: list of dialogues for testing.\n",
            "11. system_acts.json:\n",
            "  There are 6 domains ('Booking', 'Restaurant', 'Hotel', 'Attraction', 'Taxi', 'Train') and 1 dummy domain ('general').\n",
            "  A domain-dependent dialogue act is defined as a domain token followed by a domain-independent dialogue act, e.g. 'Hotel-inform' means it is an 'inform' act in the Hotel domain.\n",
            "  Dialogue acts which cannot take slots, e.g., 'good bye', are defined under the 'general' domain.\n",
            "  A slot-value pair defined as a list with two elements. The first element is slot token and the second one is its value.\n",
            "  If a dialogue act takes no slots, e.g., dialogue act 'offer booking' for an utterance 'would you like to take a reservation?', its slot-value pair is ['none', 'none']\n",
            "  There are four types of values:\n",
            "  1) If a slot takes a binary value, e.g., 'has Internet' or 'has park', the value is either 'yes' or 'no'.\n",
            "  2) If a slot is under the act 'request', e.g., 'request' about 'area', the value is expressed as '?'.\n",
            "  3) The value that appears in the utterance e.g., the name of a restaurant.\n",
            "  4) If for some reason the turn does not have an annotation then it is labeled as \"No Annotation.\"\n",
            "12. ontology.json: Data-based ontology containing all the values for the different slots in the domains.\n",
            "13. slot_descriptions.json: A collection of human-written slot descriptions for each slot in the dataset. Each slot has at least two descriptions.\n",
            "14. tokenization.md: A description of the tokenization preprocessing we had to perform to maintain consistency between the dialogue act annotations of DSTC 8 Track 1 and the existing MultiWOZ 2.0 data. \n",
            "\n"
          ]
        }
      ],
      "source": [
        "# with open('data/README') as file:\n",
        "\n",
        "with open('/content/gdrive/MyDrive/week4/data/README') as file:\n",
        "    print(file.read())"
      ]
    },
    {
      "cell_type": "markdown",
      "metadata": {
        "id": "OoDeRV2-z6z5"
      },
      "source": [
        "As you can see, there are many other aspects of the MultiWoz dataset. Nonetheless, you'll see that even with just the conversations, your model will still be able to generate useful responses. This concludes our exploration of the dataset. In the next section, we will do some preprocessing before we feed it into our model for training."
      ]
    },
    {
      "cell_type": "markdown",
      "metadata": {
        "id": "juJWkQI_8p-j"
      },
      "source": [
        "<a name=\"2\"></a>\n",
        "  Processing the data for Reformer inputs\n",
        "\n",
        "You will now use the `get_conversation()` function to process the data. The Reformer expects inputs of this form: \n",
        "\n",
        "**Person 1: Why am I so happy? Person 2: Because you are learning NLP Person 1: ... Person 2: ...***\n",
        "\n",
        "And the conversation keeps going with some text. As you can see 'Person 1' and 'Person 2' act as delimiters so the model automatically recognizes the person and who is talking. It can then come up with the corresponding text responses for each person. Let's proceed to process the text in this fashion for the Reformer. First, let's grab all the conversation strings from all dialogue files and put them in a list."
      ]
    },
    {
      "cell_type": "code",
      "execution_count": null,
      "metadata": {
        "colab": {
          "base_uri": "https://localhost:8080/"
        },
        "id": "IrnQ9eNV8p-k",
        "outputId": "2e728dd3-23a7-4acd-9b04-c1ee877cc493"
      },
      "outputs": [
        {
          "output_type": "stream",
          "name": "stdout",
          "text": [
            " Person 1: am looking for a place to to stay that has cheap price range it should be in a type of hotel Person 2: Okay, do you have a specific area you want to stay in? Person 1: no, i just need to make sure it's cheap. oh, and i need parking Person 2: I found 1 cheap hotel for you that includes parking. Do you like me to book it? Person 1: Yes, please. 6 people 3 nights starting on tuesday. Person 2: I am sorry but I wasn't able to book that for you for Tuesday. Is there another day you would like to stay or perhaps a shorter stay? Person 1: how about only 2 nights. Person 2: Booking was successful.\n",
            "Reference number is : 7GAWK763. Anything else I can do for you? Person 1: No, that will be all. Good bye. Person 2: Thank you for using our services.\n"
          ]
        }
      ],
      "source": [
        "# the keys are the file names\n",
        "all_files = DIALOGUE_DB.keys()\n",
        "\n",
        "# initialize empty list\n",
        "untokenized_data = []\n",
        "\n",
        "# loop over all files\n",
        "for file in all_files:\n",
        "    # this is the graded function you coded\n",
        "    # returns a string delimited by Person 1 and Person 2\n",
        "    result = get_conversation(file, DIALOGUE_DB)\n",
        "    \n",
        "    # append to the list\n",
        "    untokenized_data.append(result)\n",
        "\n",
        "# print the first element to check if it's the same as the one we got before\n",
        "print(untokenized_data[0])"
      ]
    },
    {
      "cell_type": "markdown",
      "metadata": {
        "id": "De0MJtQaz6z5"
      },
      "source": [
        "Now let us split the list to a train and eval dataset."
      ]
    },
    {
      "cell_type": "code",
      "execution_count": null,
      "metadata": {
        "colab": {
          "base_uri": "https://localhost:8080/"
        },
        "id": "buE0b8bjx_p_",
        "outputId": "ad5c369f-5177-4c9c-e7bc-46180a355019"
      },
      "outputs": [
        {
          "output_type": "stream",
          "name": "stdout",
          "text": [
            "number of conversations in the data set: 10438\n",
            "number of conversations in train set: 9917\n",
            "number of conversations in eval set: 521\n"
          ]
        }
      ],
      "source": [
        "# shuffle the list we generated above\n",
        "random.shuffle(untokenized_data)\n",
        "\n",
        "# define a cutoff (5% of the total length for this assignment)\n",
        "# convert to int because we will use it as a list index\n",
        "cut_off = int(len(untokenized_data) * .05)\n",
        "\n",
        "# slice the list. the last elements after the cut_off value will be the eval set. the rest is for training. \n",
        "train_data, eval_data = untokenized_data[:-cut_off], untokenized_data[-cut_off:]\n",
        "\n",
        "print(f'number of conversations in the data set: {len(untokenized_data)}')\n",
        "print(f'number of conversations in train set: {len(train_data)}')\n",
        "print(f'number of conversations in eval set: {len(eval_data)}')"
      ]
    },
    {
      "cell_type": "markdown",
      "metadata": {
        "id": "_tAAFYJOz6z6"
      },
      "source": [
        "\\<a name=\"2.1\"></a>\n",
        "## 2.1   Tokenizing, batching with bucketing\n",
        "We can now proceed in generating tokenized batches of our data. Let's first define a utility generator function to yield elements from our data sets:"
      ]
    },
    {
      "cell_type": "code",
      "execution_count": null,
      "metadata": {
        "id": "YCLq1yWZz6z6"
      },
      "outputs": [],
      "source": [
        "def stream(data):\n",
        "    # loop over the entire data\n",
        "    while True:\n",
        "        # get a random element\n",
        "        d = random.choice(data)\n",
        "        \n",
        "        # yield a tuple pair of identical values \n",
        "        # (i.e. our inputs to the model will also be our targets during training)\n",
        "        yield (d, d)"
      ]
    },
    {
      "cell_type": "markdown",
      "metadata": {
        "id": "nTQdGGPlz6z6"
      },
      "source": [
        "Now let's define our data pipeline for tokenizing and batching our data. As in the previous assignments, we will bucket by length and also have an upper bound on the token length."
      ]
    },
    {
      "cell_type": "code",
      "execution_count": null,
      "metadata": {
        "id": "uZgK5FAAWwOu"
      },
      "outputs": [],
      "source": [
        "# trax allows us to use combinators to generate our data pipeline\n",
        "data_pipeline = trax.data.Serial(\n",
        "    # randomize the stream\n",
        "    trax.data.Shuffle(),\n",
        "    \n",
        "    # tokenize the data\n",
        "    trax.data.Tokenize(vocab_dir=VOCAB_DIR,\n",
        "                       vocab_file=VOCAB_FILE),\n",
        "    \n",
        "    # filter too long sequences\n",
        "    trax.data.FilterByLength(2048),\n",
        "    \n",
        "    # bucket by length\n",
        "    trax.data.BucketByLength(boundaries=[128, 256,  512, 1024],\n",
        "                             batch_sizes=[16,    8,    4,   2, 1]),\n",
        "    \n",
        "    # add loss weights but do not add it to the padding tokens (i.e. 0)\n",
        "    trax.data.AddLossWeights(id_to_mask=0)\n",
        ")\n",
        "\n",
        "# apply the data pipeline to our train and eval sets\n",
        "train_stream = data_pipeline(stream(train_data))\n",
        "eval_stream = data_pipeline(stream(eval_data))"
      ]
    },
    {
      "cell_type": "markdown",
      "metadata": {
        "id": "HwFEbYuiYqbo"
      },
      "source": [
        "Peek into the train stream."
      ]
    },
    {
      "cell_type": "code",
      "execution_count": null,
      "metadata": {
        "colab": {
          "base_uri": "https://localhost:8080/"
        },
        "id": "9iBQEvhLYRot",
        "outputId": "2f1c03b1-cbdb-4b24-9f2f-662ff7671547"
      },
      "outputs": [
        {
          "output_type": "stream",
          "name": "stdout",
          "text": [
            "input shape:  (4, 512)\n",
            " Person 1: I am looking for a place to stay in the cheap price range.  Person 2: Okay what area of town are you wanting to stay in? Any free parking or wifi? Person 1: I do need both free parking and free wifi please.  Person 2: I found several hotels that might work for you in the centre, east and north part of town. Can you tell me where you'd like to stay? Person 1: Is there anything available in the north? Person 2: Yes, there is the City Centre North B and B and the Worth House.  Person 1: Great. Please book it for 8 people and 4 nights starting from Monday. Person 2: Which one would you like me to book? Person 1: Let's go with City Centre. Person 2: Your booking was successful. Your reference number is M6554531.  Person 1: Can you also help me find a train to get me to Leicester on Wednesday? Person 2: train TR3138 leaves at 07:21 and will arrive in leicester at 09:06. Person 1: Not decided on the train yet, still have to consult the group, what is the price? Person 2: 8 tickets costs 302.29 GBP payable at the station Person 1: Thanks. I don't want to book the train yet, so I think I am all set.  Person 2: Oh, just to mention the cost of a single ticket is 37.80 pounds. Have a great day. Goodbye. \n"
          ]
        }
      ],
      "source": [
        "# the stream generators will yield (input, target, weights). let's just grab the input for inspection\n",
        "inp, _, _ = next(train_stream)\n",
        "\n",
        "# print the shape. format is (batch size, token length)\n",
        "print(\"input shape: \", inp.shape)\n",
        "\n",
        "# detokenize the first element\n",
        "print(trax.data.detokenize(inp[0], vocab_dir=VOCAB_DIR, vocab_file=VOCAB_FILE))"
      ]
    },
    {
      "cell_type": "markdown",
      "metadata": {
        "id": "0J_0ZDc_18cL"
      },
      "source": [
        "<a name=\"3\"></a>\n",
        "#  Reversible layers\n",
        "\n",
        "When running large deep models, you will often run out of memory as each layer allocates memory to store activations for use in backpropagation. To save this resource, you need to be able to recompute these activations during the backward pass without storing them during the forward pass. Take a look first at the leftmost diagram below. \n",
        "\n",
        "\n",
        "\n",
        "This is how the residual networks are implemented in the standard Transformer. It follows that, given `F()` is Attention and `G()` is Feed-forward(FF). \n",
        ": \n",
        "\n",
        "\\begin{align}  \n",
        "\\mathrm{y}_\\mathrm{a} &= \\mathrm{x} + \\mathrm{F}\\left(\\mathrm{x}\\right)\\tag{1} \\\\\n",
        "\\mathrm{y}_{b}&=\\mathrm{y}_{a}+\\mathrm{G}\\left(\\mathrm{y}_{a}\\right)\\tag{2}\\\\\n",
        "\\end{align}\n",
        "\n",
        "\n",
        "As you can see, it requires that $\\mathrm{x}$ and $\\mathrm{y}_{a}$ be saved so it can be used during backpropagation. We want to avoid this to conserve memory and this is where reversible residual connections come in. They are shown in the middle and rightmost diagrams above. The key idea is that we will start with two copies of the input to the model and at each layer we will only update one of them. The activations that we *don’t* update are the ones that will be used to compute the residuals. \n",
        "\n",
        "Now in this reversible set up you get the following instead: \n",
        "\n",
        "\\begin{align}  \n",
        "\\mathrm{y}_{1}&=\\mathrm{x}_{1}+\\mathrm{F}\\left(\\mathrm{x}_{2}\\right)\\tag{3}\\\\\n",
        "\\mathrm{y}_{2}&=\\mathrm{x}_{2}+\\mathrm{G}\\left(\\mathrm{y}_{1}\\right)\\tag{4}\\\\\n",
        "\\end{align}\n",
        "To recover $\\mathrm{(x_1,x_2)}$ from $\\mathrm{(y_1, y_2)}$ \n",
        "\n",
        "\\begin{align}  \n",
        "\\mathrm{x}_{2}&=\\mathrm{y}_{2}-\\mathrm{G}\\left(\\mathrm{y}_{1}\\right)\\tag{5}\\\\\n",
        "\\mathrm{x}_{1}&=\\mathrm{y}_{1}-\\mathrm{F}\\left(\\mathrm{x}_{2}\\right)\\tag{6}\\\\\n",
        "\\end{align}\n",
        "\n",
        "With this configuration, we’re now able to run the network fully in reverse. You'll notice that during the backward pass, $\\mathrm{x2}$ and $\\mathrm{x1}$ can be recomputed based solely on the values of $\\mathrm{y2}$ and $\\mathrm{y1}$. No need to save it during the forward pass.\n",
        "\n",
        "<a name=\"ex02\"></a>\n",
        "### \n",
        "**Instructions:** You will implement the `reversible_layer_forward` function using equations 3 and 4 above. This function takes in the input vector `x` and the functions `f` and `g` and returns the concatenation of $y_1 and y_2$. For this exercise, we will be splitting `x` before going through the reversible residual steps$\\mathrm{^1}$.  We can then use those two vectors for the `reversible_layer_reverse` function. Utilize `np.concatenate()` to form the output being careful to match the axis of the `np.split()`.\n",
        "\n",
        "$\\mathrm{^1}$*Take note that this is just for demonstrating the concept in this exercise and there are other ways of processing the input. As you'll see in the Reformer architecture later, the initial input (i.e. `x`) can instead be duplicated instead of split.*"
      ]
    },
    {
      "cell_type": "code",
      "execution_count": null,
      "metadata": {
        "id": "adX2eU762BkF"
      },
      "outputs": [],
      "source": [
        "\n",
        "def reversible_layer_forward(x, f, g):\n",
        "\n",
        "    # split the input vector into two (* along the last axis because it is the depth dimension)\n",
        "    x1, x2 = np.split(x, 2, axis=-1) \n",
        "    ### START CODE HERE (REPLACE INSTANCES OF 'None' WITH YOUR CODE) ###\n",
        "    \n",
        "    # get y1 using equation 3\n",
        "    y1 = x1 + f(x2)\n",
        "    \n",
        "    # get y2 using equation 4\n",
        "    y2 = x2 + g(y1)\n",
        "    \n",
        "    # concatenate y1 and y2 along the depth dimension. be sure output is of type np.ndarray\n",
        "    y = np.concatenate([y1, y2], axis=-1)\n",
        "    \n",
        "    ### END CODE HERE ### \n",
        "    return y"
      ]
    },
    {
      "cell_type": "code",
      "execution_count": null,
      "metadata": {
        "colab": {
          "base_uri": "https://localhost:8080/"
        },
        "id": "YPol4RzZz6z8",
        "outputId": "13bbe89b-0475-49f0-d366-46318ec05f37"
      },
      "outputs": [
        {
          "output_type": "stream",
          "name": "stdout",
          "text": [
            "\u001b[92m All tests passed\n"
          ]
        }
      ],
      "source": [
        "# BEGIN UNIT TEST\n",
        "w4_unittest.test_reversible_layer_forward(reversible_layer_forward)\n",
        "# END UNIT TEST"
      ]
    },
    {
      "cell_type": "code",
      "execution_count": null,
      "metadata": {
        "id": "0xTCG9WlaiiO"
      },
      "outputs": [],
      "source": [
        "\n",
        "def reversible_layer_reverse(y, f, g):\n",
        "    \n",
        "    \n",
        "    # split the input vector into two (* along the last axis because it is the depth dimension)\n",
        "    y1, y2 = np.split(y, 2, axis=-1)\n",
        "    \n",
        "    ### START CODE HERE (REPLACE INSTANCES OF 'None' WITH YOUR CODE) ###\n",
        "    \n",
        "    # compute x2 using equation 5\n",
        "    x2 = y2 - g(y1)\n",
        "    \n",
        "    # compute x1 using equation 6\n",
        "    x1 = y1 - f(x2)\n",
        "    \n",
        "    # concatenate x1 and x2 along the depth dimension\n",
        "    x = np.concatenate([x1, x2], axis=-1)\n",
        "    \n",
        "    ### END CODE HERE ### \n",
        "    return x"
      ]
    },
    {
      "cell_type": "code",
      "execution_count": null,
      "metadata": {
        "colab": {
          "base_uri": "https://localhost:8080/"
        },
        "id": "JWWHtVpJz6z9",
        "outputId": "8e5df49c-d7f5-42e5-fd5c-4facb827d67b"
      },
      "outputs": [
        {
          "output_type": "stream",
          "name": "stdout",
          "text": [
            "\u001b[92m All tests passed\n"
          ]
        }
      ],
      "source": [
        "# BEGIN UNIT TEST\n",
        "w4_unittest.test_reversible_layer_reverse(reversible_layer_reverse)\n",
        "# END UNIT TEST"
      ]
    },
    {
      "cell_type": "code",
      "execution_count": null,
      "metadata": {
        "id": "o66C0Nfoafjf"
      },
      "outputs": [],
      "source": [
        "# UNIT TEST COMMENT: assert at the end can be used in grading as well\n",
        "f = lambda x: x + 2\n",
        "g = lambda x: x * 3\n",
        "input_vector = np.random.uniform(size=(32,))\n",
        "\n",
        "output_vector = reversible_layer_forward(input_vector, f, g)\n",
        "reversed_vector = reversible_layer_reverse(output_vector, f, g)\n",
        "\n",
        "assert np.allclose(reversed_vector, input_vector)"
      ]
    },
    {
      "cell_type": "markdown",
      "metadata": {
        "id": "XSRjn82B3Sh8"
      },
      "source": [
        "<a name=\"3.1\"></a>\n",
        "## 3.1   Reversible layers and randomness\n",
        "\n",
        "This is why we were learning about fastmath's random functions and keys in Course 3 Week 1. Utilizing the same key, `trax.fastmath.random.uniform()` will return the same values. This is required for the backward pass to return the correct layer inputs when random noise is introduced in the layer."
      ]
    },
    {
      "cell_type": "code",
      "execution_count": null,
      "metadata": {
        "id": "IjElqUtc2BYG"
      },
      "outputs": [],
      "source": [
        "# Layers like dropout have noise, so let's simulate it here:\n",
        "f = lambda x: x + np.random.uniform(size=x.shape)\n",
        "\n",
        "# See that the above doesn't work any more:\n",
        "output_vector = reversible_layer_forward(input_vector, f, g)\n",
        "reversed_vector = reversible_layer_reverse(output_vector, f, g)\n",
        "\n",
        "assert not np.allclose(reversed_vector, input_vector)  # Fails!!\n",
        "\n",
        "# It failed because the noise when reversing used a different random seed.\n",
        "\n",
        "random_seed = 27686\n",
        "rng = trax.fastmath.random.get_prng(random_seed)\n",
        "f = lambda x: x + trax.fastmath.random.uniform(key=rng, shape=x.shape)\n",
        "\n",
        "# See that it works now as the same rng is used on forward and reverse.\n",
        "output_vector = reversible_layer_forward(input_vector, f, g)\n",
        "reversed_vector = reversible_layer_reverse(output_vector, f, g)\n",
        "\n",
        "assert np.allclose(reversed_vector, input_vector,  atol=1e-07) "
      ]
    },
    {
      "cell_type": "markdown",
      "metadata": {
        "id": "IsfaBEyd4Ks4"
      },
      "source": [
        "<a name=\"4\"></a>\n",
        "# Part 4:   ReformerLM Training\n",
        "\n",
        "You will now proceed to training your model. Since you have already know the two main components that differentiates it from the standard Transformer, LSH in Course 1 and reversible layers above, you can just use the pre-built model already implemented in Trax. It will have this architecture:\n",
        "\n",
        "<img src='Reformer.jpg'>\n",
        "\n",
        "Similar to the Transformer you learned earlier, you want to apply an attention and feed forward layer to your inputs. For the Reformer, we improve the memory efficiency by using **reversible decoder blocks** and you can picture its implementation in Trax like below:\n",
        "\n",
        "<img src='ReversibleDecoder.png'>\n",
        "\n",
        "You can see that it takes the initial inputs `x1` and `x2` and does the first equation of the reversible networks you learned in Part 3. As you've also learned, the reversible residual has two equations for the forward-pass so doing just one of them will just constitute half of the reversible decoder block. Before doing the second equation (i.e. second half of the reversible residual), it first needs to swap the elements to take into account the stack semantics in Trax. It simply puts `x2` on top of the stack so it can be fed to the add block of the half-residual layer. It then swaps the two outputs again so it can be fed to the next layer of the network. All of these arrives at the two equations in Part 3 and it can be used to recompute the activations during the backward pass.\n",
        "\n",
        "These are already implemented for you in Trax and in the following exercise, you'll get to practice how to call them to build your network."
      ]
    },
    {
      "cell_type": "code",
      "execution_count": null,
      "metadata": {
        "id": "RidbAcoR6duP"
      },
      "outputs": [],
      "source": [
        "\n",
        "def ReformerLM(vocab_size=33000, n_layers=2, mode='train', attention_type=tl.SelfAttention):\n",
        "    \n",
        "    \n",
        "    model = tl.Serial( \n",
        "                trax.models.reformer.ReformerLM( \n",
        "                # set vocab size\n",
        "                vocab_size=vocab_size,\n",
        "                # set number of layers\n",
        "                n_layers=n_layers,\n",
        "                # set mode\n",
        "                mode=mode,\n",
        "                # set attention type\n",
        "                attention_type=attention_type\n",
        "            )\n",
        "            , tl.LogSoftmax() \n",
        "        )\n",
        "    \n",
        "    ### END CODE HERE ###\n",
        "    return model"
      ]
    },
    {
      "cell_type": "code",
      "execution_count": null,
      "metadata": {
        "colab": {
          "base_uri": "https://localhost:8080/"
        },
        "id": "rYWRIgQRz6z_",
        "outputId": "ac6e3481-3cbf-49bb-c837-f13cb656410e"
      },
      "outputs": [
        {
          "output_type": "stream",
          "name": "stdout",
          "text": [
            "Serial[\n",
            "  Serial[\n",
            "    Serial[\n",
            "      ShiftRight(1)\n",
            "    ]\n",
            "    Embedding_train_512\n",
            "    Dropout\n",
            "    Serial[\n",
            "      PositionalEncoding\n",
            "    ]\n",
            "    Dup_out2\n",
            "    ReversibleSerial_in2_out2[\n",
            "      ReversibleHalfResidualDecoderAttn_in2_out2[\n",
            "        Serial[\n",
            "          LayerNorm\n",
            "        ]\n",
            "        SelfAttention\n",
            "      ]\n",
            "      ReversibleSwap_in2_out2\n",
            "      ReversibleHalfResidualDecoderFF_in2_out2[\n",
            "        Serial[\n",
            "          LayerNorm\n",
            "          Dense_2048\n",
            "          Dropout\n",
            "          Serial[\n",
            "            FastGelu\n",
            "          ]\n",
            "          Dense_512\n",
            "          Dropout\n",
            "        ]\n",
            "      ]\n",
            "      ReversibleSwap_in2_out2\n",
            "      ReversibleHalfResidualDecoderAttn_in2_out2[\n",
            "        Serial[\n",
            "          LayerNorm\n",
            "        ]\n",
            "        SelfAttention\n",
            "      ]\n",
            "      ReversibleSwap_in2_out2\n",
            "      ReversibleHalfResidualDecoderFF_in2_out2[\n",
            "        Serial[\n",
            "          LayerNorm\n",
            "          Dense_2048\n",
            "          Dropout\n",
            "          Serial[\n",
            "            FastGelu\n",
            "          ]\n",
            "          Dense_512\n",
            "          Dropout\n",
            "        ]\n",
            "      ]\n",
            "      ReversibleSwap_in2_out2\n",
            "    ]\n",
            "    Concatenate_in2\n",
            "    LayerNorm\n",
            "    Dropout\n",
            "    Serial[\n",
            "      Dense_train\n",
            "    ]\n",
            "  ]\n",
            "  LogSoftmax\n",
            "]\n"
          ]
        }
      ],
      "source": [
        "# display the model\n",
        "temp_model = ReformerLM('train')\n",
        "print(str(temp_model))\n",
        "\n",
        "# free memory\n",
        "del temp_model "
      ]
    },
    {
      "cell_type": "code",
      "execution_count": null,
      "metadata": {
        "colab": {
          "base_uri": "https://localhost:8080/"
        },
        "id": "WSKy9k1cz6z_",
        "outputId": "34ac349b-f36a-4480-f270-16925ade3033"
      },
      "outputs": [
        {
          "output_type": "stream",
          "name": "stdout",
          "text": [
            "\u001b[92m All tests passed\n"
          ]
        }
      ],
      "source": [
        "# BEGIN UNIT TEST\n",
        "w4_unittest.test_ReformerLM(ReformerLM)\n",
        "# END UNIT TEST"
      ]
    },
    {
      "cell_type": "code",
      "execution_count": null,
      "metadata": {
        "id": "tQehGhoD4Psl",
        "colab": {
          "base_uri": "https://localhost:8080/"
        },
        "outputId": "dc4f2f74-accb-4819-8584-8ddaa47535ca"
      },
      "outputs": [
        {
          "output_type": "stream",
          "name": "stderr",
          "text": [
            "/usr/local/lib/python3.9/dist-packages/ipykernel/ipkernel.py:283: DeprecationWarning: `should_run_async` will not call `transform_cell` automatically in the future. Please pass the result to `transformed_cell` argument and any exception that happen during thetransform in `preprocessing_exc_tuple` in IPython 7.17 and above.\n",
            "  and should_run_async(code)\n"
          ]
        }
      ],
      "source": [
        "\n",
        "def training_loop(ReformerLM, train_gen, eval_gen, output_dir = \"./model/\"):\n",
        "    \"\"\"\n",
        "    Args:\n",
        "        ReformerLM:  the Reformer language model you are building\n",
        "        train_gen (generator): train data generator.\n",
        "        eval_gen (generator): Validation generator. \n",
        "        output_dir (string): Path to save the model output. Defaults to './model/'.\n",
        "\n",
        "    Returns:\n",
        "        trax.supervised.training.Loop: Training loop for the model.\n",
        "    \"\"\"\n",
        "\n",
        "    # use the warmup_and_rsqrt_decay learning rate schedule\n",
        "    lr_schedule = trax.lr.warmup_and_rsqrt_decay(\n",
        "        n_warmup_steps=1000, max_value=0.01)\n",
        "\n",
        "    ### START CODE HERE ###\n",
        "    \n",
        "    # define the train task\n",
        "    train_task = training.TrainTask(            \n",
        "        # labeled data\n",
        "        train_gen,\n",
        "        # loss layer\n",
        "        tl.CrossEntropyLoss(),\n",
        "        # optimizer\n",
        "        trax.optimizers.Adam(0.01),\n",
        "        # lr_schedule\n",
        "        lr_schedule,\n",
        "        # n_steps\n",
        "        None\n",
        "    )\n",
        "\n",
        "    # define the eval task\n",
        "    eval_task = training.EvalTask(                      \n",
        "        # labeled data\n",
        "        labeled_data=eval_gen,\n",
        "        # metrics\n",
        "        metrics=[tl.CrossEntropyLoss(), tl.Accuracy()]\n",
        "    )\n",
        "\n",
        "    ### END CODE HERE ###\n",
        "    loop = training.Loop(ReformerLM(mode='train'),\n",
        "                         train_task,\n",
        "                         eval_tasks=[eval_task],\n",
        "                         output_dir=output_dir)\n",
        "    return loop"
      ]
    },
    {
      "cell_type": "code",
      "execution_count": null,
      "metadata": {
        "colab": {
          "base_uri": "https://localhost:8080/"
        },
        "id": "IGCDSBeTz60A",
        "outputId": "452bd15f-d064-46ce-95dc-a68b6fb64146"
      },
      "outputs": [
        {
          "output_type": "stream",
          "name": "stderr",
          "text": [
            "/usr/local/lib/python3.9/dist-packages/jax/_src/xla_bridge.py:658: UserWarning: jax.host_count has been renamed to jax.process_count. This alias will eventually be removed; please update your code.\n",
            "  warnings.warn(\n"
          ]
        },
        {
          "output_type": "stream",
          "name": "stdout",
          "text": [
            "[<trax.supervised.training.TrainTask object at 0x7fb3600cf7c0>]\n",
            "[<trax.supervised.training.EvalTask object at 0x7fb36006cc10>]\n"
          ]
        }
      ],
      "source": [
        "# UNIT TEST COMMENT: Use the train task and eval task for grading train_model\n",
        "test_loop = training_loop(ReformerLM, train_stream, eval_stream)\n",
        "train_task = test_loop.tasks\n",
        "eval_task = test_loop.eval_tasks\n",
        "\n",
        "print(train_task)\n",
        "print(eval_task)"
      ]
    },
    {
      "cell_type": "code",
      "execution_count": null,
      "metadata": {
        "id": "_0t7-kHxz60A",
        "colab": {
          "base_uri": "https://localhost:8080/"
        },
        "outputId": "1cc7733c-1270-4a4f-e544-bcedb5076dc4"
      },
      "outputs": [
        {
          "output_type": "stream",
          "name": "stdout",
          "text": [
            "\u001b[92m All tests passed\n"
          ]
        }
      ],
      "source": [
        "# BEGIN UNIT TEST\n",
        "# w4_unittest.test_tasks(train_task, eval_task)\n",
        "w4_unittest.test_tasks(test_loop)\n",
        "# END UNIT TEST"
      ]
    },
    {
      "cell_type": "code",
      "execution_count": null,
      "metadata": {
        "colab": {
          "base_uri": "https://localhost:8080/"
        },
        "id": "p9jERXY46I6J",
        "outputId": "b76c8180-68c6-4450-fc6e-76f69784a958"
      },
      "outputs": [
        {
          "output_type": "stream",
          "name": "stderr",
          "text": [
            "/usr/local/lib/python3.9/dist-packages/jax/_src/xla_bridge.py:658: UserWarning: jax.host_count has been renamed to jax.process_count. This alias will eventually be removed; please update your code.\n",
            "  warnings.warn(\n"
          ]
        }
      ],
      "source": [
        "# we will now test your function\n",
        "!rm -f model/model.pkl.gz\n",
        "loop = training_loop(ReformerLM, train_stream, eval_stream)\n",
        "loop.run(10)"
      ]
    },
    {
      "cell_type": "markdown",
      "metadata": {
        "id": "0H-fepo1z60B"
      },
      "source": [
        "**Approximate Expected output:**  \n",
        "\n",
        "```\n",
        "\n",
        "Step      1: Ran 1 train steps in 55.73 secs\n",
        "Step      1: train CrossEntropyLoss |  10.41907787\n",
        "Step      1: eval  CrossEntropyLoss |  10.41005802\n",
        "Step      1: eval          Accuracy |  0.00000000\n",
        "\n",
        "Step     10: Ran 9 train steps in 108.21 secs\n",
        "Step     10: train CrossEntropyLoss |  10.15449715\n",
        "Step     10: eval  CrossEntropyLoss |  9.63478279\n",
        "Step     10: eval          Accuracy |  0.16350447\n",
        "``` "
      ]
    },
    {
      "cell_type": "markdown",
      "metadata": {
        "id": "hAGlkMZW6rKn"
      },
      "source": [
        "<a name=\"5\"></a>\n",
        "# Part 5:   Decode from a pretrained model\n",
        "\n",
        "We will now proceed on decoding using the model architecture you just implemented. As in the previous weeks, we will be giving you a pretrained model so you can observe meaningful output during inference. You will be using the [autoregressive_sample_stream()](https://trax-ml.readthedocs.io/en/latest/trax.supervised.html#trax.supervised.decoding.autoregressive_sample_stream) decoding method from Trax to do fast inference. Let's define a few parameters to initialize our model."
      ]
    },
    {
      "cell_type": "code",
      "execution_count": null,
      "metadata": {
        "id": "b3L-hIi3z60B"
      },
      "outputs": [],
      "source": [
        "# define the `predict_mem_len` and `predict_drop_len` of tl.SelfAttention\n",
        "def attention(*args, **kwargs):\n",
        "    # number of input positions to remember in a cache when doing fast inference. \n",
        "    kwargs['predict_mem_len'] = 120\n",
        "    # number of input elements to drop once the fast inference input cache fills up.\n",
        "    kwargs['predict_drop_len'] = 120\n",
        "    # return the attention layer with the parameters defined above\n",
        "    return tl.SelfAttention(*args, **kwargs)\n",
        "\n",
        "# define the model using the ReformerLM function you implemented earlier.\n",
        "model = ReformerLM(\n",
        "    vocab_size=33000,\n",
        "    n_layers=6,\n",
        "    mode='predict',\n",
        "    attention_type=attention,\n",
        ")\n",
        "\n",
        "# define an input signature so we can initialize our model. shape will be (1, 1) and the data type is int32.\n",
        "shape11 = trax.shapes.ShapeDtype((1, 1), dtype=np.int32)"
      ]
    },
    {
      "cell_type": "markdown",
      "metadata": {
        "id": "ARynlJJ2z60B"
      },
      "source": [
        "We can now initialize our model from a file containing the pretrained weights. We will save this starting state so we can reset the model state when we generate a new conversation. This will become clearer in the `generate_dialogue()` function later."
      ]
    },
    {
      "cell_type": "code",
      "execution_count": null,
      "metadata": {
        "id": "9CEyA6irz60B"
      },
      "outputs": [],
      "source": [
        "# initialize from file\n",
        "model.init_from_file('/content/gdrive/MyDrive/week4/chatbot_model1.pkl.gz',weights_only=True, input_signature=shape11)\n",
        "\n",
        "# save the starting state\n",
        "STARTING_STATE = model.state"
      ]
    },
    {
      "cell_type": "markdown",
      "metadata": {
        "id": "UQG-Y8Rpz60B"
      },
      "source": [
        "Let's define a few utility functions as well to help us tokenize and detokenize. We can use the [tokenize()](https://trax-ml.readthedocs.io/en/latest/trax.data.html#trax.data.tf_inputs.tokenize) and [detokenize()](https://trax-ml.readthedocs.io/en/latest/trax.data.html#trax.data.tf_inputs.detokenize) from `trax.data.tf_inputs` to do this."
      ]
    },
    {
      "cell_type": "code",
      "execution_count": null,
      "metadata": {
        "id": "KOm4UxCJz60C"
      },
      "outputs": [],
      "source": [
        "def tokenize(sentence, vocab_file, vocab_dir):\n",
        "    return list(trax.data.tokenize(iter([sentence]), vocab_file=vocab_file, vocab_dir=vocab_dir))[0]\n",
        "\n",
        "def detokenize(tokens, vocab_file, vocab_dir):\n",
        "    return trax.data.detokenize(tokens, vocab_file=vocab_file, vocab_dir=vocab_dir)"
      ]
    },
    {
      "cell_type": "markdown",
      "metadata": {
        "id": "OQgQA8RTz60C"
      },
      "source": [
        "We are now ready to define our decoding function. This will return a generator that yields that next symbol output by the model. It will be able to predict the next words by just feeding it a starting sentence."
      ]
    },
    {
      "cell_type": "code",
      "execution_count": null,
      "metadata": {
        "id": "nr493M-Ez60C"
      },
      "outputs": [],
      "source": [
        "\n",
        "def ReformerLM_output_gen(ReformerLM, start_sentence, vocab_file, vocab_dir, temperature):\n",
        "\n",
        "    \n",
        "    ### START CODE HERE (REPLACE INSTANCES OF 'None' WITH YOUR CODE) ###\n",
        "    \n",
        "    # Create input tokens using the the tokenize function\n",
        "    input_tokens = tokenize(start_sentence, vocab_file=vocab_file, vocab_dir=vocab_dir)\n",
        "    \n",
        "    # Add batch dimension to array. Convert from (n,) to (x, n) where \n",
        "    # x is the batch size. Default is 1. (hint: you can use np.expand_dims() with axis=0)\n",
        "    # input_tokens_with_batch = np.array(input_tokens)[None, :]\n",
        "    input_tokens_with_batch = np.expand_dims(input_tokens, axis=0)\n",
        "    \n",
        "    # call the autoregressive_sample_stream function from trax\n",
        "    output_gen = trax.supervised.decoding.autoregressive_sample_stream( \n",
        "        # model\n",
        "        model=ReformerLM,\n",
        "        # inputs will be the tokens with batch dimension\n",
        "        inputs=input_tokens_with_batch,\n",
        "        # temperature\n",
        "        temperature=temperature\n",
        "    )\n",
        "    \n",
        "    ### END CODE HERE ###\n",
        "    \n",
        "    return output_gen"
      ]
    },
    {
      "cell_type": "code",
      "execution_count": null,
      "metadata": {
        "id": "IariUOiuz60C",
        "outputId": "a7cd9c7a-e466-46fb-9717-e036f93c57dc",
        "colab": {
          "base_uri": "https://localhost:8080/"
        }
      },
      "outputs": [
        {
          "output_type": "stream",
          "name": "stdout",
          "text": [
            "[Array(1, dtype=int32), Array(0, dtype=int32), Array(4, dtype=int32), Array(3, dtype=int32), Array(0, dtype=int32), Array(4, dtype=int32)]\n"
          ]
        }
      ],
      "source": [
        "# BEGIN UNIT TEST\n",
        "import pickle\n",
        "\n",
        "WEIGHTS_FROM_FILE = ()\n",
        "\n",
        "with open('weights', 'rb') as file:\n",
        "    WEIGHTS_FROM_FILE = pickle.load(file)\n",
        "\n",
        "shape11 = trax.shapes.ShapeDtype((1, 1), dtype=np.int32)\n",
        "\n",
        "def attention(*args, **kwargs):\n",
        "    kwargs['predict_mem_len'] = 120\n",
        "    kwargs['predict_drop_len'] = 120\n",
        "    return tl.SelfAttention(*args, **kwargs)\n",
        "\n",
        "test_model = ReformerLM(vocab_size=5, n_layers=1, mode='predict', attention_type=attention)\n",
        "\n",
        "test_output_gen = ReformerLM_output_gen(test_model, \"test\", vocab_file=VOCAB_FILE, vocab_dir=VOCAB_DIR, temperature=0)\n",
        "\n",
        "test_model.init_weights_and_state(shape11)\n",
        "\n",
        "test_model.weights = WEIGHTS_FROM_FILE\n",
        "\n",
        "output = []\n",
        "\n",
        "for i in range(6):\n",
        "    output.append(next(test_output_gen)[0])\n",
        "\n",
        "print(output)\n",
        "\n",
        "# free memory\n",
        "del test_model \n",
        "del WEIGHTS_FROM_FILE\n",
        "del test_output_gen\n",
        "# END UNIT TEST"
      ]
    },
    {
      "cell_type": "code",
      "source": [
        "test_model = ReformerLM(vocab_size=5, n_layers=1, mode='predict', attention_type=attention)\n",
        "test_output_gen = ReformerLM_output_gen(test_model, \"test\", vocab_file=VOCAB_FILE, vocab_dir=VOCAB_DIR, temperature=0)\n",
        "\n",
        "w4_unittest.test_ReformerLM_output_gen(test_model, test_output_gen)\n",
        "del test_model, test_output_gen"
      ],
      "metadata": {
        "colab": {
          "base_uri": "https://localhost:8080/"
        },
        "id": "V_G1lO3gDhpr",
        "outputId": "f37a2510-a394-4bdc-83c1-ec1c5b6e072a"
      },
      "execution_count": null,
      "outputs": [
        {
          "output_type": "stream",
          "name": "stdout",
          "text": [
            "Generated output [Array(1, dtype=int32), Array(0, dtype=int32), Array(4, dtype=int32), Array(3, dtype=int32), Array(0, dtype=int32), Array(4, dtype=int32)]\n",
            "\u001b[92m All tests passed\n"
          ]
        }
      ]
    },
    {
      "cell_type": "markdown",
      "metadata": {
        "id": "zR-GEYzAz60D"
      },
      "source": [
        "***Expected value:***\n",
        "\n",
        "[1, 0, 4, 3, 0, 4]"
      ]
    },
    {
      "cell_type": "markdown",
      "metadata": {
        "id": "ws29J3S9z60D"
      },
      "source": [
        "Great! Now you will be able to see the model in action. The utility function below will call the generator you just implemented and will just format the output to be easier to read. "
      ]
    },
    {
      "cell_type": "code",
      "execution_count": null,
      "metadata": {
        "id": "KT5YBO-Hz60D"
      },
      "outputs": [],
      "source": [
        "shape11 = trax.shapes.ShapeDtype((1, 1), dtype=np.int32)\n",
        "\n",
        "def attention(*args, **kwargs):\n",
        "    kwargs['predict_mem_len'] = 120  # max length for predictions\n",
        "    kwargs['predict_drop_len'] = 120  # never drop old stuff\n",
        "    return tl.SelfAttention(*args, **kwargs)\n",
        "\n",
        "model = ReformerLM(\n",
        "    vocab_size=33000,\n",
        "    n_layers=6,\n",
        "    mode='predict',\n",
        "    attention_type=attention,\n",
        ")"
      ]
    },
    {
      "cell_type": "code",
      "execution_count": null,
      "metadata": {
        "id": "MFO1iwt3z60D"
      },
      "outputs": [],
      "source": [
        "model.init_from_file('/content/gdrive/MyDrive/week4/chatbot_model1.pkl.gz',\n",
        "                     weights_only=True, input_signature=shape11)\n",
        "\n",
        "STARTING_STATE = model.state"
      ]
    },
    {
      "cell_type": "code",
      "source": [
        "def generate_dialogue(ReformerLM, model_state, start_sentence, vocab_file, vocab_dir, max_len, temperature):\n",
        "\n",
        "    \n",
        "    # define the delimiters we used during training\n",
        "    delimiter_1 = 'Person 1: ' \n",
        "    delimiter_2 = 'Person 2: '\n",
        "    \n",
        "    # initialize detokenized output\n",
        "    sentence = ''\n",
        "    \n",
        "    # token counter\n",
        "    counter = 0\n",
        "    \n",
        "    # output tokens. we insert a ': ' for formatting\n",
        "    result = [tokenize(': ', vocab_file=vocab_file, vocab_dir=vocab_dir)]\n",
        "    \n",
        "    # reset the model state when starting a new dialogue\n",
        "    ReformerLM.state = model_state\n",
        "    \n",
        "    # calls the output generator implemented earlier\n",
        "    output = ReformerLM_output_gen(ReformerLM, start_sentence, vocab_file=VOCAB_FILE, vocab_dir=VOCAB_DIR, temperature=temperature)\n",
        "    \n",
        "    # print the starting sentence\n",
        "    print(start_sentence.split(delimiter_2)[0].strip())\n",
        "    \n",
        "    # loop below yields the next tokens until max_len is reached. the if-elif is just for prettifying the output.\n",
        "    for o in output:\n",
        "        \n",
        "        result.append(o)\n",
        "        \n",
        "        sentence = detokenize(np.concatenate(result, axis=0), vocab_file=VOCAB_FILE, vocab_dir=VOCAB_DIR)\n",
        "        \n",
        "        if sentence.endswith(delimiter_1):\n",
        "            sentence = sentence.split(delimiter_1)[0]\n",
        "            print(f'{delimiter_2}{sentence}')\n",
        "            sentence = ''\n",
        "            result.clear()\n",
        "        \n",
        "        elif sentence.endswith(delimiter_2):\n",
        "            sentence = sentence.split(delimiter_2)[0]\n",
        "            print(f'{delimiter_1}{sentence}')\n",
        "            sentence = ''\n",
        "            result.clear()\n",
        "\n",
        "        counter += 1\n",
        "        \n",
        "        if counter > max_len:\n",
        "            break"
      ],
      "metadata": {
        "id": "9Vok0AJuDz5T"
      },
      "execution_count": null,
      "outputs": []
    },
    {
      "cell_type": "markdown",
      "metadata": {
        "id": "mouSZNKGz60E"
      },
      "source": [
        "We can now feed in different starting sentences and see how the model generates the dialogue. You can even input your own starting sentence. Just remember to ask a question that covers the topics in the Multiwoz dataset so you can generate a meaningful conversation."
      ]
    },
    {
      "cell_type": "code",
      "execution_count": null,
      "metadata": {
        "id": "qvjrFRmrz60E",
        "outputId": "2c40f5e6-bff5-4af7-b44c-0cbcf666160b",
        "colab": {
          "base_uri": "https://localhost:8080/"
        }
      },
      "outputs": [
        {
          "output_type": "stream",
          "name": "stdout",
          "text": [
            "Person 1: Are there theatres in town?\n",
            "Person 2: : There are 4 theatres in town. Do you have a preference on area? \n",
            "Person 1: No, I don't care. Which one do you recommend? \n",
            "Person 2: I recommend the Mumford Theatre. It's in the east at Anglia Ruskin Enterprise, east road. Would you like more information on it? \n",
            "Person 1: Yes, could I have the postcode, and entrance fee please? \n",
            "Person 1: The postcode is cb11pt then i hate i hate i hate i hate i need their info \n"
          ]
        }
      ],
      "source": [
        "sample_sentence = ' Person 1: Are there theatres in town? Person 2: '\n",
        "generate_dialogue(ReformerLM=model, model_state=STARTING_STATE, start_sentence=sample_sentence, vocab_file=VOCAB_FILE, vocab_dir=VOCAB_DIR, max_len=120, temperature=0.2)"
      ]
    },
    {
      "cell_type": "code",
      "execution_count": null,
      "metadata": {
        "id": "l0gyLryfz60E",
        "outputId": "bcbb942a-24a0-4ddd-b672-730b6739cffd",
        "colab": {
          "base_uri": "https://localhost:8080/"
        }
      },
      "outputs": [
        {
          "output_type": "stream",
          "name": "stdout",
          "text": [
            "Person 1: Is there a hospital nearby?\n",
            "Person 2: : Addensbrookes Hospital is located at Hills Rd, Cambridge, postcode CB20QQ. \n",
            "Person 1: Thank you for the information. That's all I need. \n",
            "Person 2: Thank you for using our services.Goodbye.\n",
            "Person 1: Thank you for your help. \n",
            "Person 2: Thank you for using our services.Goodbye.\n",
            "Person 1: Goodbye. \n"
          ]
        }
      ],
      "source": [
        "sample_sentence = ' Person 1: Is there a hospital nearby? Person 2: '\n",
        "generate_dialogue(ReformerLM=model, model_state=STARTING_STATE, start_sentence=sample_sentence, vocab_file=VOCAB_FILE, vocab_dir=VOCAB_DIR, max_len=120, temperature=0.2)"
      ]
    },
    {
      "cell_type": "code",
      "execution_count": null,
      "metadata": {
        "id": "_uXEjRsQz60E",
        "outputId": "ecd76fec-fce0-4a54-acab-f6e5996232fa",
        "colab": {
          "base_uri": "https://localhost:8080/"
        }
      },
      "outputs": [
        {
          "output_type": "stream",
          "name": "stdout",
          "text": [
            "Person 1: Can you book a taxi?\n",
            "Person 2: : I sure can. When would you like to leave? \n",
            "Person 1: I want to leave after 13:00. \n",
            "Person 2: I'm sorry, I have no listings for that time. Would you like to try a different time? \n",
            "Person 1: Yes, let's try to find a train. \n",
            "Person 2: I'm sorry, but I'm not able to book that train. Could you change your request? \n"
          ]
        }
      ],
      "source": [
        "sample_sentence = ' Person 1: Can you book a taxi? Person 2: '\n",
        "generate_dialogue(ReformerLM=model, model_state=STARTING_STATE, start_sentence=sample_sentence, vocab_file=VOCAB_FILE, vocab_dir=VOCAB_DIR, max_len=120, temperature=0.2)"
      ]
    },
    {
      "cell_type": "code",
      "source": [
        "sample_sentence = ' Person 1: Where is the Japanese restaurant? Person 2: '\n",
        "generate_dialogue(ReformerLM=model, model_state=STARTING_STATE, start_sentence=sample_sentence, vocab_file=VOCAB_FILE, vocab_dir=VOCAB_DIR, max_len=120, temperature=0.2)"
      ],
      "metadata": {
        "colab": {
          "base_uri": "https://localhost:8080/"
        },
        "id": "0aC9-TwdEKue",
        "outputId": "a29f3b3a-2080-44d6-bf68-91022e387bfa"
      },
      "execution_count": null,
      "outputs": [
        {
          "output_type": "stream",
          "name": "stdout",
          "text": [
            "Person 1: Where is the Japanese restaurant?\n",
            "Person 2: : There is no such listing for the restaurant called Cote. Would you like to book a table? \n",
            "Person 1: Yes, I would like to book a table for 1 at 18:00 on Friday. \n",
            "Person 2: I'm sorry but I am unable to book that for you. Would you like to try another time or day perhaps another day perhaps? \n",
            "Person 1: How about 18:00? \n",
            "Person 2: I was able to book you at Cote. Your reference is  \n"
          ]
        }
      ]
    },
    {
      "cell_type": "code",
      "source": [
        "Reformer LM\n",
        "LSH layers\n",
        "Self attention\n",
        "Skip connections\n",
        "Residual networks"
      ],
      "metadata": {
        "id": "Xb2OesfiGMHh"
      },
      "execution_count": null,
      "outputs": []
    }
  ],
  "metadata": {
    "coursera": {
      "schema_names": [
        "NLPC4-4"
      ]
    },
    "jupytext": {
      "encoding": "# -*- coding: utf-8 -*-",
      "formats": "ipynb,py:percent",
      "text_representation": {
        "extension": ".py",
        "format_name": "percent",
        "format_version": "1.3",
        "jupytext_version": "1.5.2"
      }
    },
    "kernelspec": {
      "display_name": "Python 3",
      "language": "python",
      "name": "python3"
    },
    "language_info": {
      "codemirror_mode": {
        "name": "ipython",
        "version": 3
      },
      "file_extension": ".py",
      "mimetype": "text/x-python",
      "name": "python",
      "nbconvert_exporter": "python",
      "pygments_lexer": "ipython3",
      "version": "3.6.2"
    },
    "colab": {
      "provenance": []
    },
    "accelerator": "GPU",
    "gpuClass": "standard"
  },
  "nbformat": 4,
  "nbformat_minor": 0
}